{
 "cells": [
  {
   "cell_type": "markdown",
   "id": "eb9a574f-e253-479a-92a4-1e55286f1b08",
   "metadata": {},
   "source": [
    "<h1>My Jupyter Notebook on IBM Watson Studio</h1>"
   ]
  },
  {
   "cell_type": "markdown",
   "id": "c3602888-aaa0-476a-a593-a6ce178d3455",
   "metadata": {},
   "source": [
    "<strong>Ashutosh Kumar</strong>\\\n",
    "Head of Analytics"
   ]
  },
  {
   "cell_type": "markdown",
   "id": "8a39b0bc-59da-48fd-8daa-e98306de80cf",
   "metadata": {},
   "source": [
    "*I am interested in data science because data science helps in decision making. It removed human biasness from decisions*"
   ]
  },
  {
   "cell_type": "markdown",
   "id": "a1b6d4e9-1e57-46a6-b6cd-ef37e19e76ec",
   "metadata": {},
   "source": [
    "<h3>Find square of 11</h3>"
   ]
  },
  {
   "cell_type": "code",
   "execution_count": 3,
   "id": "97ed8c78-6835-4110-9f9f-6cf20bfce3bb",
   "metadata": {},
   "outputs": [
    {
     "data": {
      "text/plain": [
       "121"
      ]
     },
     "execution_count": 3,
     "metadata": {},
     "output_type": "execute_result"
    }
   ],
   "source": [
    "11**2"
   ]
  },
  {
   "cell_type": "markdown",
   "id": "003940bd-bc8b-4781-bec7-78196d8824ab",
   "metadata": {},
   "source": [
    "[Coursera](https://www.coursera.org/)"
   ]
  },
  {
   "cell_type": "markdown",
   "id": "cca2099e-3c8b-4355-a8f8-778dd6455f84",
   "metadata": {},
   "source": [
    "![Data Science Image!](https://lh3.googleusercontent.com/yuUrDV2DAtBRvItHZ2FvXMkPbHR5NEt4kXbpp8dgK-r9jI9-irP19GJb2CvdBRYmy41KG4BxFu2Hod9GzdgGc46iYmm7As4bNNsc-JP7vYwY8d1BzHgZdvKR7H4xtLM20zR9gn0PJE-nQU0navp9Xh0pHc3Cp-CjYUENN7dWZ3NJiw8CiHFEJn7Mc0ul_A)"
   ]
  },
  {
   "cell_type": "markdown",
   "id": "4e443374-a85d-4cd5-9be3-5e120aeaa99c",
   "metadata": {},
   "source": [
    "- Step 1\n",
    "- Step 2\n",
    "- Step 3\n",
    "- Step 4"
   ]
  },
  {
   "cell_type": "code",
   "execution_count": null,
   "id": "eac84706-60b9-4d22-bda1-bcd3465524d5",
   "metadata": {},
   "outputs": [],
   "source": []
  }
 ],
 "metadata": {
  "kernelspec": {
   "display_name": "Python",
   "language": "python",
   "name": "conda-env-python-py"
  },
  "language_info": {
   "codemirror_mode": {
    "name": "ipython",
    "version": 3
   },
   "file_extension": ".py",
   "mimetype": "text/x-python",
   "name": "python",
   "nbconvert_exporter": "python",
   "pygments_lexer": "ipython3",
   "version": "3.7.12"
  }
 },
 "nbformat": 4,
 "nbformat_minor": 5
}
